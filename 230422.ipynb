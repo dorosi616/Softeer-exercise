{
  "nbformat": 4,
  "nbformat_minor": 0,
  "metadata": {
    "colab": {
      "provenance": [],
      "authorship_tag": "ABX9TyO0SmyDDgFZSNVgv+GURCBm",
      "include_colab_link": true
    },
    "kernelspec": {
      "name": "python3",
      "display_name": "Python 3"
    },
    "language_info": {
      "name": "python"
    }
  },
  "cells": [
    {
      "cell_type": "markdown",
      "metadata": {
        "id": "view-in-github",
        "colab_type": "text"
      },
      "source": [
        "<a href=\"https://colab.research.google.com/github/dorosi616/Softeer-exercise/blob/main/230422.ipynb\" target=\"_parent\"><img src=\"https://colab.research.google.com/assets/colab-badge.svg\" alt=\"Open In Colab\"/></a>"
      ]
    },
    {
      "cell_type": "markdown",
      "source": [
        "#### **Lv 1. 주행거리 비교**\n",
        " "
      ],
      "metadata": {
        "id": "f_0TiZJwr6pG"
      }
    },
    {
      "cell_type": "code",
      "execution_count": null,
      "metadata": {
        "id": "mXEOyXoYr3gA"
      },
      "outputs": [],
      "source": [
        "a, b = map(int, input().split())\n",
        "\n",
        "if a > b:\n",
        "    print(\"A\")\n",
        "elif a < b:\n",
        "    print(\"B\")\n",
        "else:\n",
        "    print(\"same\")"
      ]
    },
    {
      "cell_type": "markdown",
      "source": [
        "#### **Lv 1. 근무 시간**"
      ],
      "metadata": {
        "id": "ikizi6KXsLAb"
      }
    },
    {
      "cell_type": "code",
      "source": [
        "total = 0\n",
        "\n",
        "for i in range(5):\n",
        "    temp = list(input().split())\n",
        "    s = int(temp[0].split(\":\")[0])*60+int(temp[0].split(\":\")[1])\n",
        "    e = int(temp[1].split(\":\")[0])*60+int(temp[1].split(\":\")[1])\n",
        "    total += (e-s)\n",
        "print(total)"
      ],
      "metadata": {
        "id": "O2WvzinrsLNE"
      },
      "execution_count": null,
      "outputs": []
    },
    {
      "cell_type": "markdown",
      "source": [
        "#### **Lv 1. A+B**"
      ],
      "metadata": {
        "id": "ueC0nDMdsYbH"
      }
    },
    {
      "cell_type": "code",
      "source": [
        "n = int(input())\n",
        "\n",
        "for i in range(n):\n",
        "    a, b = map(int, input().split())\n",
        "    print(\"Case #\"+str(i+1)+\": \"+str(a+b))"
      ],
      "metadata": {
        "id": "kZ8-SdjLsYoM"
      },
      "execution_count": null,
      "outputs": []
    },
    {
      "cell_type": "markdown",
      "source": [
        "#### **Lv 2. 금고털이**"
      ],
      "metadata": {
        "id": "xN9lP_QosnJI"
      }
    },
    {
      "cell_type": "code",
      "source": [
        "w, n = map(int, input().split())\n",
        "metal = []\n",
        "for i in range(n):\n",
        "    metal.append(list(map(int, input().split())))\n",
        "\n",
        "metal.sort(key= lambda x:x[1], reverse=True)\n",
        "\n",
        "answer = 0\n",
        "\n",
        "for weight, price in metal:\n",
        "    if w > weight:\n",
        "        answer += (weight*price)\n",
        "        w -= weight\n",
        "    else:\n",
        "        answer += (w*price)\n",
        "        break\n",
        "\n",
        "print(answer)"
      ],
      "metadata": {
        "id": "nI9AaS6nsnYg"
      },
      "execution_count": null,
      "outputs": []
    },
    {
      "cell_type": "markdown",
      "source": [
        "#### **Lv 2. 8단 변속기**"
      ],
      "metadata": {
        "id": "EQx60JPHsnjY"
      }
    },
    {
      "cell_type": "code",
      "source": [
        "nums = list(map(int, input().split()))\n",
        "\n",
        "if sorted(nums)==nums:\n",
        "    print(\"ascending\")\n",
        "elif sorted(nums, reverse=True)==nums:\n",
        "    print(\"descending\")\n",
        "else:\n",
        "    print(\"mixed\")"
      ],
      "metadata": {
        "id": "3lbUFrFysnvN"
      },
      "execution_count": null,
      "outputs": []
    }
  ]
}